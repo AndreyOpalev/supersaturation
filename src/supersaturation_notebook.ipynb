{
 "cells": [
  {
   "cell_type": "code",
   "execution_count": null,
   "id": "1dd618f4",
   "metadata": {},
   "outputs": [],
   "source": [
    "%matplotlib inline\n",
    "\n",
    "from supersaturation import Supersaturation"
   ]
  },
  {
   "cell_type": "markdown",
   "id": "5199984d",
   "metadata": {},
   "source": [
    "# Configure all the paths and load data"
   ]
  },
  {
   "cell_type": "code",
   "execution_count": null,
   "id": "fdd16e1b",
   "metadata": {},
   "outputs": [],
   "source": [
    "# Change the path according to needs\n",
    "path_to_the_excel_file = \"../../supersaturation_data_set/Condensation.xlsx\"\n",
    "path_to_air_data_folder = \"../../supersaturation_data_set/air_data\"\n",
    "path_to_output = \"../../supersaturation_data_set/output\"\n",
    "\n",
    "# Do not change\n",
    "supersaturation = Supersaturation(path_to_the_excel_file, \n",
    "                                  path_to_air_data_folder,\n",
    "                                  path_to_output)"
   ]
  },
  {
   "cell_type": "markdown",
   "id": "42bc72c6",
   "metadata": {},
   "source": [
    "# Show all excel notes"
   ]
  },
  {
   "cell_type": "code",
   "execution_count": null,
   "id": "db3e7d9c",
   "metadata": {},
   "outputs": [],
   "source": [
    "supersaturation.print_experiments()"
   ]
  },
  {
   "cell_type": "markdown",
   "id": "fc306332",
   "metadata": {},
   "source": [
    "# Show air data files"
   ]
  },
  {
   "cell_type": "code",
   "execution_count": null,
   "id": "7ae05c54",
   "metadata": {},
   "outputs": [],
   "source": [
    "supersaturation.print_air_data_files()"
   ]
  },
  {
   "cell_type": "markdown",
   "id": "ffedf7dc",
   "metadata": {},
   "source": [
    "# Calculate Supersaturation"
   ]
  },
  {
   "cell_type": "code",
   "execution_count": null,
   "id": "b1727aca",
   "metadata": {},
   "outputs": [],
   "source": [
    "output_file = supersaturation.compute_saturation(172)\n",
    "supersaturation.plot_results(output_file)\n",
    "\n",
    "supersaturation.air_data.plot_loaded_data()"
   ]
  }
 ],
 "metadata": {
  "kernelspec": {
   "display_name": "Python 3 (ipykernel)",
   "language": "python",
   "name": "python3"
  },
  "language_info": {
   "codemirror_mode": {
    "name": "ipython",
    "version": 3
   },
   "file_extension": ".py",
   "mimetype": "text/x-python",
   "name": "python",
   "nbconvert_exporter": "python",
   "pygments_lexer": "ipython3",
   "version": "3.9.7"
  }
 },
 "nbformat": 4,
 "nbformat_minor": 5
}
